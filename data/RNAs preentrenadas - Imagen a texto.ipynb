{
 "cells": [
  {
   "cell_type": "markdown",
   "id": "d9c104c0-980e-4d6a-9cb5-19ab8eba943b",
   "metadata": {},
   "source": [
    "## Introducción\n",
    "\n",
    "Una red neuronal artificial (RNA) preentrenada es un modelo que ha sido entrenado previamente y luego distribuído (incluyendo arquitectura y valores de pesos) para su uso posterior. De esta manera no es necesario que volver a entrenarlo, o bien, se puede utilizar parte de el ya entrenado, y entrenar otras partes, realizando un ajuste fino o fine tuning. Constituye una manera de reducir los recursos y tiempos necesarios para generar un sistema de aprendizaje automático.\n",
    "\n",
    "Hugging Face es una plataforma de aprendizaje automático, conocida por su librería de [Transformers](https://es.wikipedia.org/wiki/Transformador(modelo_de_aprendizajeautom%C3%A1tico)) creada para aplicaciones de procesamiento de lenguaje natural y que permite a los usuarios compartir conjuntos de datos y modelos de aprendizaje automático preentrenados. Su Model Hub contiene miles de modelos previamente entrenados de código abierto que cualquiera puede descargar y usar. Además dispone de varios cursos en los que se enseñan conceptos de aprendizaje automático a la vez que como utilizar sus herramientas.\n",
    "\n",
    "Una de las formas más básicas de usar para inferencia la librería Hugging Face Transformers es la función pipeline(), que permite conectar uno de sus modelos de con los pasos necesarios para su preprocesamiento y posprocesamiento, abstrayendo la mayor parte del código complejo de la librería y ofreciendo una API simple dedicada a varias tareas, entre ellas, audio, visión artificial, procesamiento de lenguaje natural y tareas multimodales."
   ]
  },
  {
   "cell_type": "code",
   "execution_count": null,
   "id": "a8aec322-7373-43ef-aa7e-ec29986c4b86",
   "metadata": {
    "scrolled": true
   },
   "outputs": [],
   "source": [
    "from transformers import pipeline\n",
    "import requests\n",
    "from PIL import Image\n",
    "import numpy as np\n",
    "import matplotlib.pyplot as plt\n",
    "import matplotlib.patches as patches\n",
    "\n",
    "# Avoid some warning\n",
    "%env TOKENIZERS_PARALLELISM=false"
   ]
  },
  {
   "cell_type": "markdown",
   "id": "b7b94b48-d817-44f8-9b81-2ab3fc35adfe",
   "metadata": {},
   "source": [
    "## Imagen a texto\n",
    "Generar texo a partir de una imagen otra de las tareas de visión por computador, puede suponer el detectar el texto dentro de una imagen (OCR de Optical Character Recognitio), con el modelo microsoft/trocr-base-handwritten probamos a reconocer texto escrito a mano."
   ]
  },
  {
   "cell_type": "code",
   "execution_count": null,
   "id": "e7cdc2b1-0865-4dc8-8d4a-1878484388c4",
   "metadata": {},
   "outputs": [],
   "source": [
    "# Download an image\n",
    "#url = \"https://fki.tic.heia-fr.ch/static/img/a01-122-02-00.jpg\"\n",
    "url = \"https://bass-tian.com/es/img/Meticulosidad.jpg\"\n",
    "image_data = requests.get(url, stream=True).raw\n",
    "image = Image.open(image_data)\n",
    "\n",
    "#Convert PIL Image, convert it to a format suitable for matplotlib\n",
    "image_np = np.array(image)\n",
    "\n",
    "#Create a matplotlib figure and axis\n",
    "fig, ax = plt.subplots(figsize=(12, 9))  # Width, height in inches\n",
    "ax.imshow(image_np)\n",
    "\n",
    "plt.show()"
   ]
  },
  {
   "cell_type": "code",
   "execution_count": null,
   "id": "b2dd580f-3edf-4a02-b4a2-dc014001e2f1",
   "metadata": {},
   "outputs": [],
   "source": [
    "# Allocate and execute a pipeline for ocr\n",
    "ocr = pipeline(model='microsoft/trocr-base-handwritten')\n",
    "ocr(image)"
   ]
  },
  {
   "cell_type": "markdown",
   "id": "715ee682-d628-463b-a090-013f20364a2a",
   "metadata": {},
   "source": [
    "También se puede generar una leyenda que describa a una imagen, con el modelo nlpconnect/vit-gpt2-image-captioning probamos a reconocer el bodegón anterior."
   ]
  },
  {
   "cell_type": "code",
   "execution_count": null,
   "id": "a97104f7-b755-4bfc-b86c-93a371bbffd2",
   "metadata": {},
   "outputs": [],
   "source": [
    "# Allocate and execute a pipeline for image caption\n",
    "captioner = pipeline(model='nlpconnect/vit-gpt2-image-captioning')\n",
    "\n",
    "# Download an image\n",
    "url = \"https://cdn.pixabay.com/photo/2021/12/23/05/27/still-life-6888656_960_720.jpg\"\n",
    "image_data = requests.get(url, stream=True).raw\n",
    "image_sl = Image.open(image_data)\n",
    "\n",
    "# Convert PIL Image, convert it to a format suitable for matplotlib\n",
    "image_np = np.array(image_sl)\n",
    "\n",
    "# Create a matplotlib figure and axis\n",
    "fig, ax = plt.subplots(figsize=(12, 9))  # Width, height in inches\n",
    "ax.imshow(image_np)\n",
    "\n",
    "plt.show()"
   ]
  },
  {
   "cell_type": "code",
   "execution_count": null,
   "id": "f6e2cc4f-a43e-43c4-8be0-bbad8d9022c6",
   "metadata": {},
   "outputs": [],
   "source": [
    "captioner(image_sl)"
   ]
  },
  {
   "cell_type": "code",
   "execution_count": null,
   "id": "8a8542d7-0ed6-4169-9768-3b6d060ab979",
   "metadata": {},
   "outputs": [],
   "source": [
    "# !nvidia-smi\n",
    "\n",
    "# Reiniciando kernel para limpiar la memoria de la GPU\n",
    "!pkill -9 -f ipykernel_launcher"
   ]
  }
 ],
 "metadata": {
  "kernelspec": {
   "display_name": "Python 3 (ipykernel)",
   "language": "python",
   "name": "python3"
  },
  "language_info": {
   "codemirror_mode": {
    "name": "ipython",
    "version": 3
   },
   "file_extension": ".py",
   "mimetype": "text/x-python",
   "name": "python",
   "nbconvert_exporter": "python",
   "pygments_lexer": "ipython3",
   "version": "3.10.12"
  }
 },
 "nbformat": 4,
 "nbformat_minor": 5
}
