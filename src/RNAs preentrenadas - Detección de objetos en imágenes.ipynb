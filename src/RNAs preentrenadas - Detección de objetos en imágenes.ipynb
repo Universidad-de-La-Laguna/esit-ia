{
 "cells": [
  {
   "cell_type": "markdown",
   "id": "d9c104c0-980e-4d6a-9cb5-19ab8eba943b",
   "metadata": {},
   "source": [
    "## Introducción\n",
    "\n",
    "Una red neuronal artificial (RNA) preentrenada es un modelo que ha sido entrenado previamente y luego distribuído (incluyendo arquitectura y valores de pesos) para su uso posterior. De esta manera no es necesario que volver a entrenarlo, o bien, se puede utilizar parte de el ya entrenado, y entrenar otras partes, realizando un ajuste fino o fine tuning. Constituye una manera de reducir los recursos y tiempos necesarios para generar un sistema de aprendizaje automático.\n",
    "\n",
    "Hugging Face es una plataforma de aprendizaje automático, conocida por su librería de [Transformers](https://es.wikipedia.org/wiki/Transformador(modelo_de_aprendizajeautom%C3%A1tico)) creada para aplicaciones de procesamiento de lenguaje natural y que permite a los usuarios compartir conjuntos de datos y modelos de aprendizaje automático preentrenados. Su Model Hub contiene miles de modelos previamente entrenados de código abierto que cualquiera puede descargar y usar. Además dispone de varios cursos en los que se enseñan conceptos de aprendizaje automático a la vez que como utilizar sus herramientas.\n",
    "\n",
    "Una de las formas más básicas de usar para inferencia la librería Hugging Face Transformers es la función pipeline(), que permite conectar uno de sus modelos de con los pasos necesarios para su preprocesamiento y posprocesamiento, abstrayendo la mayor parte del código complejo de la librería y ofreciendo una API simple dedicada a varias tareas, entre ellas, audio, visión artificial, procesamiento de lenguaje natural y tareas multimodales."
   ]
  },
  {
   "cell_type": "code",
   "execution_count": null,
   "id": "a8aec322-7373-43ef-aa7e-ec29986c4b86",
   "metadata": {
    "scrolled": true
   },
   "outputs": [],
   "source": [
    "from transformers import pipeline\n",
    "\n",
    "# Avoid some warning\n",
    "%env TOKENIZERS_PARALLELISM=false"
   ]
  },
  {
   "cell_type": "markdown",
   "id": "05221ab4-fac5-488c-bb80-186958409db4",
   "metadata": {},
   "source": [
    "## Detección de objetos en imágenes\n",
    "Detectar objetos en imágenes es una tarea clásica en visión por computador, y existen distintos modelos para ello, como DETR (End-to-End Object Detection) model with ResNet-50 backbone , estos modelos son más complejos que los utilizados anteriormente. Aquí lo probamos bajo una imagen extraída de Pixabay."
   ]
  },
  {
   "cell_type": "code",
   "execution_count": null,
   "id": "5cf8e680-1381-4a4d-adcb-c193284b262b",
   "metadata": {},
   "outputs": [],
   "source": [
    "# Some aditional library imports\n",
    "import requests\n",
    "from PIL import Image\n",
    "import numpy as np\n",
    "import matplotlib.pyplot as plt\n",
    "import matplotlib.patches as patches\n",
    "\n",
    "# Download an image\n",
    "url = \"https://cdn.pixabay.com/photo/2021/12/23/05/27/still-life-6888656_960_720.jpg\"\n",
    "image_data = requests.get(url, stream=True).raw\n",
    "image_sl = Image.open(image_data)\n",
    "\n",
    "# Convert PIL Image, convert it to a format suitable for matplotlib\n",
    "image_np = np.array(image_sl)\n",
    "\n",
    "# Create a matplotlib figure and axis\n",
    "fig, ax = plt.subplots(figsize=(12, 9))  # Width, height in inches\n",
    "ax.imshow(image_np)\n",
    "\n",
    "plt.show()"
   ]
  },
  {
   "cell_type": "code",
   "execution_count": null,
   "id": "bfac344b-6c33-43d8-8634-dc828f5c71fd",
   "metadata": {},
   "outputs": [],
   "source": [
    "# Allocate and execute a pipeline for object detection\n",
    "object_detector = pipeline(model='facebook/detr-resnet-50')\n",
    "predictions = object_detector(image_sl)\n",
    "\n",
    "print(\"Number of detected objects:\", len(predictions))\n",
    "predictions"
   ]
  },
  {
   "cell_type": "code",
   "execution_count": null,
   "id": "963d8e49-3df8-41a3-a998-9216d6c17aa0",
   "metadata": {},
   "outputs": [],
   "source": [
    "# Create a matplotlib figure and axis\n",
    "# from https://wellsr.com/python/zero-shot-object-detection-with-hugging-face-transformers/\n",
    "fig, ax = plt.subplots(figsize=(12, 9))  # Width, height in inches\n",
    "ax.imshow(image_np)\n",
    "\n",
    "# Create a rectangle for each object\n",
    "for prediction in predictions:\n",
    "    box = prediction['box']\n",
    "    label = prediction['label']\n",
    "    score = prediction['score']\n",
    "    xmin, ymin, xmax, ymax = box.values()\n",
    "    rect = patches.Rectangle((xmin, ymin), xmax - xmin, ymax - ymin, linewidth=1, edgecolor='red', facecolor='none')\n",
    "\n",
    "    # Add the rectangle to the axes\n",
    "    ax.add_patch(rect)\n",
    "\n",
    "    # Add text\n",
    "    plt.text(xmin, ymin, f\"{label}: {round(score,2)}\", color='yellow', fontsize=10, verticalalignment='top')\n",
    "\n",
    "# Display the image\n",
    "plt.axis('off')\n",
    "plt.show()"
   ]
  },
  {
   "cell_type": "code",
   "execution_count": null,
   "id": "94e2ed0e-5a8b-4bb8-8df5-f8f2a91aa6ae",
   "metadata": {},
   "outputs": [],
   "source": [
    "# Showing the object detector model\n",
    "print(object_detector.model)\n",
    "#object_detector.model.summary()"
   ]
  },
  {
   "cell_type": "code",
   "execution_count": null,
   "id": "8a8542d7-0ed6-4169-9768-3b6d060ab979",
   "metadata": {},
   "outputs": [],
   "source": [
    "# !nvidia-smi\n",
    "\n",
    "# Reiniciando kernel para limpiar la memoria de la GPU\n",
    "!pkill -9 -f ipykernel_launcher"
   ]
  }
 ],
 "metadata": {
  "kernelspec": {
   "display_name": "Python 3 (ipykernel)",
   "language": "python",
   "name": "python3"
  },
  "language_info": {
   "codemirror_mode": {
    "name": "ipython",
    "version": 3
   },
   "file_extension": ".py",
   "mimetype": "text/x-python",
   "name": "python",
   "nbconvert_exporter": "python",
   "pygments_lexer": "ipython3",
   "version": "3.10.12"
  }
 },
 "nbformat": 4,
 "nbformat_minor": 5
}
