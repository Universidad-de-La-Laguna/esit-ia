{
 "cells": [
  {
   "cell_type": "markdown",
   "id": "d9c104c0-980e-4d6a-9cb5-19ab8eba943b",
   "metadata": {},
   "source": [
    "## Introducción\n",
    "\n",
    "Una red neuronal artificial (RNA) preentrenada es un modelo que ha sido entrenado previamente y luego distribuído (incluyendo arquitectura y valores de pesos) para su uso posterior. De esta manera no es necesario que volver a entrenarlo, o bien, se puede utilizar parte de el ya entrenado, y entrenar otras partes, realizando un ajuste fino o fine tuning. Constituye una manera de reducir los recursos y tiempos necesarios para generar un sistema de aprendizaje automático.\n",
    "\n",
    "Hugging Face es una plataforma de aprendizaje automático, conocida por su librería de [Transformers](https://es.wikipedia.org/wiki/Transformador(modelo_de_aprendizajeautom%C3%A1tico)) creada para aplicaciones de procesamiento de lenguaje natural y que permite a los usuarios compartir conjuntos de datos y modelos de aprendizaje automático preentrenados. Su Model Hub contiene miles de modelos previamente entrenados de código abierto que cualquiera puede descargar y usar. Además dispone de varios cursos en los que se enseñan conceptos de aprendizaje automático a la vez que como utilizar sus herramientas.\n",
    "\n",
    "Una de las formas más básicas de usar para inferencia la librería Hugging Face Transformers es la función pipeline(), que permite conectar uno de sus modelos de con los pasos necesarios para su preprocesamiento y posprocesamiento, abstrayendo la mayor parte del código complejo de la librería y ofreciendo una API simple dedicada a varias tareas, entre ellas, audio, visión artificial, procesamiento de lenguaje natural y tareas multimodales."
   ]
  },
  {
   "cell_type": "code",
   "execution_count": null,
   "id": "a8aec322-7373-43ef-aa7e-ec29986c4b86",
   "metadata": {
    "scrolled": true
   },
   "outputs": [],
   "source": [
    "from transformers import pipeline\n",
    "\n",
    "# Avoid some warning\n",
    "%env TOKENIZERS_PARALLELISM=false"
   ]
  },
  {
   "cell_type": "markdown",
   "id": "9bf3b589-6127-4d4a-a512-3db66c226ffd",
   "metadata": {},
   "source": [
    "## Análisis de sentimientos\n",
    "El análisis de sentimientos premite clasificar textos de acuerdo a distintas etiquetas predeterminadas, como podrían ser textos positivos frente a negativos. Existen disintos modelos preentrenados disponibles para ello y para distintos idiomas, por ejemplo Spanish Sentiment Analysis Classifier"
   ]
  },
  {
   "cell_type": "code",
   "execution_count": null,
   "id": "042f8df5-49eb-4f21-a49f-7fedc97d27af",
   "metadata": {},
   "outputs": [],
   "source": [
    "# Allocate a piepeline for spanish sentiment-analysis\n",
    "classifier = pipeline(model='VerificadoProfesional/SaBERT-Spanish-Sentiment-Analysis')\n",
    "text_1 = \"Nos alegra introducirles las redes neuronales artificiales preentrenadas a ustedes.\"\n",
    "classifier(text_1)"
   ]
  },
  {
   "cell_type": "code",
   "execution_count": null,
   "id": "51b759b1-b264-4f3b-b242-1d8650036a11",
   "metadata": {},
   "outputs": [],
   "source": [
    "text_2 = \"Sería una lástima que el tema no les resultara interesante.\"\n",
    "classifier(text_2)"
   ]
  },
  {
   "cell_type": "code",
   "execution_count": null,
   "id": "d3b1ded3-0c3b-4c8c-9b45-22bd2a36c204",
   "metadata": {},
   "outputs": [],
   "source": [
    "# Showing the classifier model\n",
    "print(classifier.model)\n",
    "# classifier.model.summary()"
   ]
  },
  {
   "cell_type": "markdown",
   "id": "cf0e19b0-19ae-4c38-bedf-5ae1f30a2002",
   "metadata": {},
   "source": [
    "... o también podemos realizar puntuaciones sobre los textos usando nlptown/bert-base-multilingual-uncased-sentiment."
   ]
  },
  {
   "cell_type": "code",
   "execution_count": null,
   "id": "ac358c18-ff73-49bf-852d-1a19ae7b324b",
   "metadata": {},
   "outputs": [],
   "source": [
    "# Ranking texts\n",
    "classifier = pipeline(model='nlptown/bert-base-multilingual-uncased-sentiment')\n",
    "print(classifier(text_1))\n",
    "print(classifier(text_2))"
   ]
  },
  {
   "cell_type": "markdown",
   "id": "f478f4a2-65ac-4f57-9d72-56e79b0d797a",
   "metadata": {},
   "source": [
    "Podemos traducir los textos a inglés mediante Helsinki-NLP/opus-mt-es-en y realizar las puntuaciones nuevamente."
   ]
  },
  {
   "cell_type": "code",
   "execution_count": null,
   "id": "f1e81a65-997b-4c0f-8665-4d6f88bf3a06",
   "metadata": {},
   "outputs": [],
   "source": [
    "# Translate the texts\n",
    "translator = pipeline(model='Helsinki-NLP/opus-mt-es-en')\n",
    "text_1_translated = translator(text_1)[0]['translation_text']\n",
    "text_2_translated = translator(text_2)[0]['translation_text']\n",
    "\n",
    "# And rank again\n",
    "print(text_1_translated, classifier(text_1_translated))\n",
    "print(text_2_translated, classifier(text_2_translated))"
   ]
  },
  {
   "cell_type": "code",
   "execution_count": null,
   "id": "8a8542d7-0ed6-4169-9768-3b6d060ab979",
   "metadata": {},
   "outputs": [],
   "source": [
    "# !nvidia-smi\n",
    "\n",
    "# Reiniciando kernel para limpiar la memoria de la GPU\n",
    "!pkill -9 -f ipykernel_launcher"
   ]
  }
 ],
 "metadata": {
  "kernelspec": {
   "display_name": "Python 3 (ipykernel)",
   "language": "python",
   "name": "python3"
  },
  "language_info": {
   "codemirror_mode": {
    "name": "ipython",
    "version": 3
   },
   "file_extension": ".py",
   "mimetype": "text/x-python",
   "name": "python",
   "nbconvert_exporter": "python",
   "pygments_lexer": "ipython3",
   "version": "3.10.12"
  }
 },
 "nbformat": 4,
 "nbformat_minor": 5
}
